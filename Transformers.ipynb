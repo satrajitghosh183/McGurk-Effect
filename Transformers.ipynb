{
 "cells": [
  {
   "cell_type": "code",
   "execution_count": 5,
   "metadata": {},
   "outputs": [
    {
     "name": "stdout",
     "output_type": "stream",
     "text": [
      "Epoch 1/10\n",
      "40/40 [==============================] - 5s 66ms/step - loss: 1.0849 - accuracy: 0.5891 - val_loss: 0.7851 - val_accuracy: 0.7688\n",
      "Epoch 2/10\n",
      "40/40 [==============================] - 2s 56ms/step - loss: 0.7454 - accuracy: 0.7328 - val_loss: 0.7062 - val_accuracy: 0.7750\n",
      "Epoch 3/10\n",
      "40/40 [==============================] - 2s 56ms/step - loss: 0.6460 - accuracy: 0.7672 - val_loss: 0.6688 - val_accuracy: 0.8062\n",
      "Epoch 4/10\n",
      "40/40 [==============================] - 2s 56ms/step - loss: 0.5699 - accuracy: 0.7937 - val_loss: 0.6450 - val_accuracy: 0.7750\n",
      "Epoch 5/10\n",
      "40/40 [==============================] - 2s 56ms/step - loss: 0.5866 - accuracy: 0.7719 - val_loss: 0.6471 - val_accuracy: 0.8062\n",
      "Epoch 6/10\n",
      "40/40 [==============================] - 2s 56ms/step - loss: 0.5563 - accuracy: 0.7875 - val_loss: 0.6264 - val_accuracy: 0.7812\n",
      "Epoch 7/10\n",
      "40/40 [==============================] - 2s 56ms/step - loss: 0.5408 - accuracy: 0.8031 - val_loss: 0.6974 - val_accuracy: 0.8188\n",
      "Epoch 8/10\n",
      "40/40 [==============================] - 2s 56ms/step - loss: 0.5298 - accuracy: 0.7844 - val_loss: 0.7079 - val_accuracy: 0.8000\n",
      "Epoch 9/10\n",
      "40/40 [==============================] - 2s 57ms/step - loss: 0.5252 - accuracy: 0.7984 - val_loss: 0.6886 - val_accuracy: 0.8125\n",
      "Epoch 10/10\n",
      "40/40 [==============================] - 2s 57ms/step - loss: 0.5098 - accuracy: 0.7969 - val_loss: 0.5381 - val_accuracy: 0.8313\n"
     ]
    }
   ],
   "source": [
    "import numpy as np\n",
    "import tensorflow as tf\n",
    "from tensorflow.keras.models import Model\n",
    "from tensorflow.keras.layers import (\n",
    "    Input, Dense, LayerNormalization, Dropout, Concatenate, MultiHeadAttention, GlobalAveragePooling1D\n",
    ")\n",
    "from tensorflow.keras.preprocessing.sequence import pad_sequences\n",
    "import pandas as pd\n",
    "import matplotlib.pyplot as plt\n",
    "\n",
    "# Load datasets\n",
    "cohesive_data = np.load(\"cohesive_data_small.npy\", allow_pickle=True)\n",
    "mismatched_data = np.load(\"mismatched_data_small.npy\", allow_pickle=True)\n",
    "\n",
    "# Prepare dataset\n",
    "def prepare_data(data, max_seq_len=None):\n",
    "    audio_features, video_features, labels = [], [], []\n",
    "    for entry in data:\n",
    "        audio_features.append(entry['audio'])\n",
    "        video_features.append(entry['video'].reshape(entry['video'].shape[0], -1))  # Flatten last two dims\n",
    "        labels.append(entry['phoneme'])\n",
    "\n",
    "    # Determine max sequence length if not provided\n",
    "    if max_seq_len is None:\n",
    "        max_seq_len = max(max(len(a) for a in audio_features), max(len(v) for v in video_features))\n",
    "\n",
    "    # Pad sequences\n",
    "    audio_features = pad_sequences(audio_features, maxlen=max_seq_len, padding='post', dtype='float32')\n",
    "    video_features = pad_sequences(video_features, maxlen=max_seq_len, padding='post', dtype='float32')\n",
    "\n",
    "    return (\n",
    "        tf.convert_to_tensor(audio_features, dtype=tf.float32),\n",
    "        tf.convert_to_tensor(video_features, dtype=tf.float32),\n",
    "        labels,\n",
    "    )\n",
    "\n",
    "# Prepare cohesive and mismatched data\n",
    "audio_train, video_train, labels_train = prepare_data(cohesive_data)\n",
    "audio_test, video_test, labels_test = prepare_data(mismatched_data, max_seq_len=audio_train.shape[1])\n",
    "\n",
    "# Encode labels\n",
    "unique_labels = sorted(set(labels_train))\n",
    "label_to_index = {label: idx for idx, label in enumerate(unique_labels)}\n",
    "labels_train_encoded = tf.convert_to_tensor([label_to_index[label] for label in labels_train], dtype=tf.int32)\n",
    "labels_train_onehot = tf.one_hot(labels_train_encoded, depth=len(unique_labels))\n",
    "labels_test_encoded = tf.convert_to_tensor(\n",
    "    [label_to_index.get(label, -1) for label in labels_test if label in label_to_index], dtype=tf.int32\n",
    ")\n",
    "labels_test_onehot = tf.one_hot(labels_test_encoded, depth=len(unique_labels))\n",
    "\n",
    "# Define Transformer Encoder Block\n",
    "def transformer_encoder(inputs, num_heads, key_dim, ff_dim, dropout_rate):\n",
    "    attention_output = MultiHeadAttention(num_heads=num_heads, key_dim=key_dim)(inputs, inputs)\n",
    "    attention_output = Dropout(dropout_rate)(attention_output)\n",
    "    attention_output = LayerNormalization(epsilon=1e-6)(attention_output + inputs)\n",
    "\n",
    "    ff_output = Dense(ff_dim, activation='relu')(attention_output)\n",
    "    ff_output = Dense(inputs.shape[-1], activation='relu')(ff_output)\n",
    "    ff_output = Dropout(dropout_rate)(ff_output)\n",
    "    ff_output = LayerNormalization(epsilon=1e-6)(ff_output + attention_output)\n",
    "    return ff_output\n",
    "\n",
    "# Define Multimodal Transformer Model\n",
    "def build_mm_transformer(input_audio_shape, input_video_shape, num_classes, num_heads=4, key_dim=64, ff_dim=128, dropout_rate=0.2):\n",
    "    # Audio input and self-attention encoder\n",
    "    audio_input = Input(shape=input_audio_shape, name=\"Audio_Input\")\n",
    "    audio_encoded = transformer_encoder(audio_input, num_heads, key_dim, ff_dim, dropout_rate)\n",
    "    audio_pooled = GlobalAveragePooling1D()(audio_encoded)\n",
    "\n",
    "    # Video input and self-attention encoder\n",
    "    video_input = Input(shape=input_video_shape, name=\"Video_Input\")\n",
    "    video_encoded = transformer_encoder(video_input, num_heads, key_dim, ff_dim, dropout_rate)\n",
    "    video_pooled = GlobalAveragePooling1D()(video_encoded)\n",
    "\n",
    "    # Concatenate pooled outputs\n",
    "    fused = Concatenate()([audio_pooled, video_pooled])\n",
    "    fused = Dense(128, activation='relu')(fused)\n",
    "    fused = Dropout(0.2)(fused)\n",
    "    output = Dense(num_classes, activation='softmax')(fused)\n",
    "\n",
    "    # Build the model\n",
    "    model = Model(inputs=[audio_input, video_input], outputs=output)\n",
    "    model.compile(optimizer='adam', loss='categorical_crossentropy', metrics=['accuracy'])\n",
    "    return model\n",
    "\n",
    "# Build the model\n",
    "input_audio_shape = audio_train.shape[1:]  # Exclude batch size\n",
    "input_video_shape = video_train.shape[1:]  # Exclude batch size\n",
    "num_classes = len(unique_labels)\n",
    "\n",
    "model = build_mm_transformer(input_audio_shape, input_video_shape, num_classes)\n",
    "\n",
    "# Train the model\n",
    "history = model.fit(\n",
    "    [audio_train, video_train],\n",
    "    labels_train_onehot,\n",
    "    epochs=10,\n",
    "    batch_size=16,\n",
    "    validation_split=0.2\n",
    ")\n",
    "\n"
   ]
  },
  {
   "cell_type": "code",
   "execution_count": 6,
   "metadata": {},
   "outputs": [
    {
     "name": "stdout",
     "output_type": "stream",
     "text": [
      "Checking for NaN or inf in audio_test: tf.Tensor(False, shape=(), dtype=bool) tf.Tensor(False, shape=(), dtype=bool)\n",
      "Checking for NaN or inf in video_test: tf.Tensor(False, shape=(), dtype=bool) tf.Tensor(False, shape=(), dtype=bool)\n"
     ]
    }
   ],
   "source": [
    "print(\"Checking for NaN or inf in audio_test:\", tf.reduce_any(tf.math.is_nan(audio_test)), tf.reduce_any(tf.math.is_inf(audio_test)))\n",
    "print(\"Checking for NaN or inf in video_test:\", tf.reduce_any(tf.math.is_nan(video_test)), tf.reduce_any(tf.math.is_inf(video_test)))\n"
   ]
  },
  {
   "cell_type": "code",
   "execution_count": 7,
   "metadata": {},
   "outputs": [
    {
     "name": "stdout",
     "output_type": "stream",
     "text": [
      "Audio Test Shape: (799, 514, 6)\n",
      "Video Test Shape: (799, 514, 80)\n",
      "Labels Test Onehot Shape: (0, 5)\n"
     ]
    }
   ],
   "source": [
    "print(f\"Audio Test Shape: {audio_test.shape}\")\n",
    "print(f\"Video Test Shape: {video_test.shape}\")\n",
    "print(f\"Labels Test Onehot Shape: {labels_test_onehot.shape}\")\n"
   ]
  },
  {
   "cell_type": "code",
   "execution_count": 8,
   "metadata": {},
   "outputs": [
    {
     "name": "stdout",
     "output_type": "stream",
     "text": [
      "25/25 - 1s - 1s/epoch - 55ms/step\n"
     ]
    }
   ],
   "source": [
    "# Map mismatched labels to extract both audio and video components\n",
    "def extract_audio_visual_labels(label):\n",
    "    \"\"\"Extract audio and visual components from mismatched label.\"\"\"\n",
    "    visual_component = label.split(\"_\")[0].replace(\"Visual-\", \"\")\n",
    "    audio_component = label.split(\"_\")[1].replace(\"Audio-\", \"\")\n",
    "    return visual_component, audio_component\n",
    "\n",
    "# Prepare mismatched dataset for testing\n",
    "audio_test, video_test, labels_test = prepare_data(mismatched_data, max_seq_len=audio_train.shape[1])\n",
    "visual_labels, audio_labels = zip(*[extract_audio_visual_labels(label) for label in labels_test])\n",
    "\n",
    "# Evaluate mismatched dataset\n",
    "predictions = model.predict([audio_test, video_test], verbose=2)\n",
    "\n",
    "# Convert predictions to label indices\n",
    "predicted_indices = tf.argmax(predictions, axis=1).numpy()\n",
    "predicted_labels = [unique_labels[idx] for idx in predicted_indices]\n",
    "\n",
    "# Analyze results\n",
    "results = []\n",
    "for i, (predicted, visual, audio) in enumerate(zip(predicted_labels, visual_labels, audio_labels)):\n",
    "    results.append({\n",
    "        \"Sample\": i,\n",
    "        \"Predicted\": predicted,\n",
    "        \"Visual_Label\": visual,\n",
    "        \"Audio_Label\": audio,\n",
    "        \"Fused?\": predicted not in [visual, audio],\n",
    "    })\n",
    "\n"
   ]
  },
  {
   "cell_type": "code",
   "execution_count": 9,
   "metadata": {},
   "outputs": [
    {
     "name": "stdout",
     "output_type": "stream",
     "text": [
      "     Sample Predicted Visual_Label Audio_Label  Fused?\n",
      "0         0      blue          bin        blue   False\n",
      "1         1      blue         blue          at   False\n",
      "2         2        at           at           f   False\n",
      "3         3       two            f         two   False\n",
      "4         4       two          two         bin   False\n",
      "..      ...       ...          ...         ...     ...\n",
      "794     794      blue         blue        blue   False\n",
      "795     795       bin         blue        blue    True\n",
      "796     796       bin         blue        blue    True\n",
      "797     797      blue         blue         two   False\n",
      "798     798       two          two        blue   False\n",
      "\n",
      "[799 rows x 5 columns]\n"
     ]
    }
   ],
   "source": [
    "# Convert results to DataFrame for better analysis\n",
    "import pandas as pd\n",
    "results_df = pd.DataFrame(results)\n",
    "\n",
    "print(results_df)\n"
   ]
  },
  {
   "cell_type": "code",
   "execution_count": 10,
   "metadata": {},
   "outputs": [
    {
     "data": {
      "image/png": "[encoded data removed]",
      "text/plain": [
       "<Figure size 800x600 with 1 Axes>"
      ]
     },
     "metadata": {},
     "output_type": "display_data"
    }
   ],
   "source": [
    "\n",
    "\n",
    "# Convert results to a DataFrame for easier manipulation\n",
    "results_df = pd.DataFrame(results)\n",
    "\n",
    "# Count fused and non-fused predictions\n",
    "fused_counts = results_df['Fused?'].value_counts()\n",
    "\n",
    "# Generate a bar plot\n",
    "plt.figure(figsize=(8, 6))\n",
    "plt.bar(['Non-Fused', 'Fused'], [fused_counts.get(False, 0), fused_counts.get(True, 0)])\n",
    "plt.xlabel('Prediction Type', fontsize=12)\n",
    "plt.ylabel('Count', fontsize=12)\n",
    "plt.title('Count of Fused vs Non-Fused Predictions', fontsize=14)\n",
    "plt.xticks(fontsize=10)\n",
    "plt.yticks(fontsize=10)\n",
    "\n",
    "# Display the graph\n",
    "plt.tight_layout()\n",
    "plt.show()\n"
   ]
  }
 ],
 "metadata": {
  "kernelspec": {
   "display_name": "MachineLearning",
   "language": "python",
   "name": "python3"
  },
  "language_info": {
   "codemirror_mode": {
    "name": "ipython",
    "version": 3
   },
   "file_extension": ".py",
   "mimetype": "text/x-python",
   "name": "python",
   "nbconvert_exporter": "python",
   "pygments_lexer": "ipython3",
   "version": "3.8.17"
  }
 },
 "nbformat": 4,
 "nbformat_minor": 2
}
